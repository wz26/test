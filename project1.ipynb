{
 "cells": [
  {
   "cell_type": "code",
   "execution_count": null,
   "metadata": {
    "collapsed": true
   },
   "outputs": [],
   "source": [
    "import numpy as np"
   ]
  },
  {
   "cell_type": "code",
   "execution_count": null,
   "metadata": {
    "collapsed": true
   },
   "outputs": [],
   "source": [
    "#B matrix is an 12-by-12 matrix to find parameter value\n",
    "B = np.zeros((12,12), dtype=int)"
   ]
  },
  {
   "cell_type": "code",
   "execution_count": null,
   "metadata": {
    "collapsed": true
   },
   "outputs": [],
   "source": [
    "#this  six points are used to obtain the intrinsics and extrinsics\n",
    "xw1, yw1, zw1, x1, y1 = 6, 0, 2, 793, 884\n",
    "xw2, yw2, zw2, x2, y2 = 0, 6, 2, 1080, 880\n",
    "xw3, yw3, zw3, x3, y3 = 4, 0, 2, 845, 884\n",
    "xw4, yw4, zw4, x4, y4 = 0, 4, 2, 1033, 880\n",
    "xw5, yw5, zw5, x5, y5 = 6, 0, 0, 793, 950\n",
    "xw6, yw6, zw6, x6, y6 = 0, 6, 0, 1080, 948"
   ]
  },
  {
   "cell_type": "code",
   "execution_count": null,
   "metadata": {},
   "outputs": [],
   "source": [
    "#create matrix B\n",
    "B[0] = [xw1, yw1, zw1, 1, 0, 0, 0, 0, -x1*xw1, -x1*yw1, -x1*zw1, -x1]\n",
    "B[1] = [0, 0, 0, 0, xw1, yw1, zw1, 1, -y1*xw1, -y1*yw1, -y1*zw1, -y1]\n",
    "B[2] = [xw2, yw2, zw2, 1, 0, 0, 0, 0, -x2*xw2, -x2*yw2, -x2*zw2, -x2]\n",
    "B[3] = [0, 0, 0, 0, xw2, yw2, zw2, 1, -y2*xw2, -y2*yw2, -y1*zw2, -y2]\n",
    "B[4] = [xw3, yw3, zw3, 1, 0, 0, 0, 0, -x3*xw3, -x3*yw3, -x3*zw3, -x3]\n",
    "B[5] = [0, 0, 0, 0, xw3, yw3, zw3, 1, -y3*xw3, -y3*yw3, -y3*zw3, -y3]\n",
    "B[6] = [xw4, yw4, zw4, 1, 0, 0, 0, 0, -x4*xw4, -x4*yw4, -x4*zw4, -x4]\n",
    "B[7] = [0, 0, 0, 0, xw4, yw4, zw4, 1, -y4*xw4, -y4*yw4, -y4*zw4, -y4]\n",
    "B[8] = [xw5, yw5, zw5, 1, 0, 0, 0, 0, -x5*xw5, -x5*yw5, -x5*zw5, -x5]\n",
    "B[9] = [0, 0, 0, 0, xw5, yw5, zw5, 1, -y5*xw5, -y5*yw5, -y5*zw5, -y5]\n",
    "B[10] = [xw6, yw6, zw6, 1, 0, 0, 0, 0, -x6*xw6, -x6*yw6, -x6*zw6, -x6]\n",
    "B[11] = [0, 0, 0, 0, xw6, yw6, zw6, 1, -y6*xw6, -y6*yw6, -y6*zw6, -y6]"
   ]
  },
  {
   "cell_type": "code",
   "execution_count": null,
   "metadata": {},
   "outputs": [],
   "source": [
    "#do svd and get the last column of vh.T to obtain projection matrix\n",
    "u, s, vh = np.linalg.svd(B, full_matrices=True)\n",
    "vh = vh.T\n",
    "p = vh[:,11]\n",
    "p = p.reshape(3, 4)\n",
    "p"
   ]
  },
  {
   "cell_type": "code",
   "execution_count": null,
   "metadata": {},
   "outputs": [],
   "source": [
    "#extract left and right part of projection matrix\n",
    "right = p[:, 3]\n",
    "left = p[:, [0,1,2]]\n",
    "left"
   ]
  },
  {
   "cell_type": "code",
   "execution_count": null,
   "metadata": {},
   "outputs": [],
   "source": [
    "#normalizing the projection matrix\n",
    "temp = left[2, :]\n",
    "temp\n",
    "norm = np.sum(temp[0]**2 + temp[1]**2 + temp[2]**2)\n",
    "norm\n",
    "p = p/norm\n",
    "right = p[:, 3]\n",
    "left = p[:, [0,1,2]]\n",
    "p"
   ]
  },
  {
   "cell_type": "code",
   "execution_count": null,
   "metadata": {},
   "outputs": [],
   "source": [
    "#compute the matrix A to recover intrinsics\n",
    "A = np.matmul(left, left.transpose())\n",
    "A = A/A[2,2]\n",
    "A"
   ]
  },
  {
   "cell_type": "code",
   "execution_count": null,
   "metadata": {},
   "outputs": [],
   "source": [
    "# recovering the intrinsics\n",
    "u0 = A[0,2]\n",
    "v0 = A[1,2]\n",
    "beta = np.sqrt(A[1,1]-np.square(v0))\n",
    "alfa = np.sqrt(A[0,0]-np.square(u0))\n",
    "beta"
   ]
  },
  {
   "cell_type": "code",
   "execution_count": null,
   "metadata": {},
   "outputs": [],
   "source": [
    "#recovering the extrinsics\n",
    "K = np.matrix([[alfa, 0, u0],[0, beta, v0],[0, 0, 1]])\n",
    "Kinverse = K.I\n",
    "R = np.matmul(Kinverse, left)\n",
    "t = np.matmul(Kinverse, right)\n",
    "RT = np.concatenate((R, t.T), axis=1)"
   ]
  },
  {
   "cell_type": "code",
   "execution_count": null,
   "metadata": {},
   "outputs": [],
   "source": [
    "#now begin to verify, firsly pick one points\n",
    "#xw1, yw1, zw1, x1, y1 = 6, 0, 2, 793, 884\n",
    "X1 = np.array([xw1, yw1, zw1, 1]);\n",
    "x1 = np.matmul(K, RT)\n",
    "x1 = np.matmul(x1, X1.T)\n",
    "x1 = x1/x1[0,2]\n",
    "x1"
   ]
  },
  {
   "cell_type": "code",
   "execution_count": null,
   "metadata": {
    "collapsed": true
   },
   "outputs": [],
   "source": []
  }
 ],
 "metadata": {
  "kernelspec": {
   "display_name": "Python 3",
   "language": "python",
   "name": "python3"
  },
  "language_info": {
   "codemirror_mode": {
    "name": "ipython",
    "version": 3
   },
   "file_extension": ".py",
   "mimetype": "text/x-python",
   "name": "python",
   "nbconvert_exporter": "python",
   "pygments_lexer": "ipython3",
   "version": "3.6.1"
  }
 },
 "nbformat": 4,
 "nbformat_minor": 2
}
